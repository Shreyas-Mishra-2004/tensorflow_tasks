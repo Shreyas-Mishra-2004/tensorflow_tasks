{
  "nbformat": 4,
  "nbformat_minor": 0,
  "metadata": {
    "colab": {
      "provenance": [],
      "authorship_tag": "ABX9TyPITPUgiG25K7An8XJ98eAF",
      "include_colab_link": true
    },
    "kernelspec": {
      "name": "python3",
      "display_name": "Python 3"
    },
    "language_info": {
      "name": "python"
    }
  },
  "cells": [
    {
      "cell_type": "markdown",
      "metadata": {
        "id": "view-in-github",
        "colab_type": "text"
      },
      "source": [
        "<a href=\"https://colab.research.google.com/github/ShreyasMishraCodes/tensorflow_tasks/blob/main/Hidden_Markov_Models_TF.ipynb\" target=\"_parent\"><img src=\"https://colab.research.google.com/assets/colab-badge.svg\" alt=\"Open In Colab\"/></a>"
      ]
    },
    {
      "cell_type": "code",
      "execution_count": null,
      "metadata": {
        "id": "CJvJUlSnt3nG"
      },
      "outputs": [],
      "source": [
        "import tensorflow_probability as tfp\n",
        "import tensorflow as tf\n"
      ]
    },
    {
      "cell_type": "code",
      "source": [
        "tfd = tfp.distributions\n",
        "initial_distribution = tfd.Categorical([0.8, 0.2])\n",
        "transition_distribution = tfd.Categorical(probs = [[0.7, 0.3],\n",
        "                                                  [0.2, 0.8]])\n",
        "observation_distribution = tfd.Normal(loc = [0., 15.], scale = [5., 10.])\n",
        "\n",
        "#loc represents mean and scale represents standard deviation\n"
      ],
      "metadata": {
        "id": "d0zLX7CaULAJ"
      },
      "execution_count": null,
      "outputs": []
    },
    {
      "cell_type": "code",
      "source": [
        "model = tfd.HiddenMarkovModel(initial_distribution = initial_distribution,\n",
        "                              transition_distribution = transition_distribution,\n",
        "                              observation_distribution = observation_distribution,\n",
        "                              num_steps = 7)"
      ],
      "metadata": {
        "id": "bvLL8S7WfnGO"
      },
      "execution_count": null,
      "outputs": []
    },
    {
      "cell_type": "code",
      "source": [
        "mean = model.mean()\n",
        "with tf.compat.v1.Session() as sess:\n",
        " print(mean.numpy())"
      ],
      "metadata": {
        "colab": {
          "base_uri": "https://localhost:8080/"
        },
        "id": "reYftA7WhpLC",
        "outputId": "9856eb02-eda0-4e75-e084-f2d828082514"
      },
      "execution_count": null,
      "outputs": [
        {
          "output_type": "stream",
          "name": "stdout",
          "text": [
            "[5.315155 7.157577 8.078789 8.539393 8.769697 8.884848 8.942423]\n"
          ]
        }
      ]
    }
  ]
}